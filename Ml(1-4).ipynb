{
  "nbformat": 4,
  "nbformat_minor": 0,
  "metadata": {
    "colab": {
      "name": "Untitled4.ipynb",
      "provenance": [],
      "include_colab_link": true
    },
    "kernelspec": {
      "name": "python3",
      "display_name": "Python 3"
    },
    "language_info": {
      "name": "python"
    }
  },
  "cells": [
    {
      "cell_type": "markdown",
      "metadata": {
        "id": "view-in-github",
        "colab_type": "text"
      },
      "source": [
        "<a href=\"https://colab.research.google.com/github/SakshiJait-coder/LP-3/blob/master/Ml(1-4).ipynb\" target=\"_parent\"><img src=\"https://colab.research.google.com/assets/colab-badge.svg\" alt=\"Open In Colab\"/></a>"
      ]
    },
    {
      "cell_type": "code",
      "source": [
        "import numpy as np\n",
        "import pandas as pd\n",
        "import matplotlib.pyplot as plt\n",
        "import seaborn as sns\n",
        "import mpl_toolkits\n",
        "from sklearn.linear_model import LinearRegression\n",
        "from sklearn.model_selection import train_test_split\n",
        "from sklearn.preprocessing import StandardScaler\n",
        "import datetime as dt\n",
        "%matplotlib inline"
      ],
      "metadata": {
        "id": "7DqKiaxWlBu6"
      },
      "execution_count": null,
      "outputs": []
    },
    {
      "cell_type": "code",
      "source": [
        "import numpy as np\n",
        "import matplotlib.pyplot as plt\n",
        "import pandas as pd\n",
        "\n",
        "dataset=pd.read_csv(\"/content/h.csv.csv\")\n",
        "X=dataset.iloc[:,:-1].values\n",
        "print(X)\n",
        "y=dataset.iloc[:,1].values\n",
        "from sklearn.linear_model import LinearRegression\n",
        "regressor=LinearRegression()\n",
        "regressor.fit(X,y)\n",
        "print(\"Accuracy : \", str(regressor.score(X, y) * 100))\n",
        "\n",
        "y_pred=regressor.predict([[10]])\n",
        "print(y_pred)\n",
        "\n",
        "hours=int(input('Enter the no of hours:'))\n",
        "eq=regressor.coef_*hours+regressor.intercept_\n",
        "print('y = %f*%f+%f' %(regressor.coef_,hours,regressor.intercept_))\n",
        "print('Equation for best fit line is: y=%f*x+%f' %(regressor.coef_,regressor.intercept_))\n",
        "print(\"Risk Score: \", eq[0])\n",
        "plt.plot(X, y, 'o')\n",
        "plt.plot(X, regressor.predict(X));\n",
        "plt.show()"
      ],
      "metadata": {
        "colab": {
          "base_uri": "https://localhost:8080/",
          "height": 520
        },
        "id": "wShYkh2qpCsA",
        "outputId": "7187fa39-5689-4e6c-be4c-192567fe9287"
      },
      "execution_count": null,
      "outputs": [
        {
          "output_type": "stream",
          "name": "stdout",
          "text": [
            "[[10]\n",
            " [ 9]\n",
            " [ 2]\n",
            " [15]\n",
            " [10]\n",
            " [16]\n",
            " [11]\n",
            " [16]]\n",
            "Accuracy :  43.709481451010035\n",
            "[58.46361406]\n",
            "Enter the no of hours:10\n",
            "y = 4.587899*10.000000+12.584628\n",
            "Equation for best fit line is: y=4.587899*x+12.584628\n",
            "Risk Score:  58.4636140637776\n"
          ]
        },
        {
          "output_type": "display_data",
          "data": {
            "text/plain": [
              "<Figure size 432x288 with 1 Axes>"
            ],
            "image/png": "[encoded data removed]"
          },
          "metadata": {
            "needs_background": "light"
          }
        }
      ]
    },
    {
      "cell_type": "markdown",
      "source": [
        "ass2 "
      ],
      "metadata": {
        "id": "eFPm6vFxpGhu"
      }
    },
    {
      "cell_type": "code",
      "source": [
        "import pandas as pd\n",
        "import numpy as np\n",
        "\n",
        "dataset=pd.read_csv(\"/content/dt.csv\")\n",
        "print(\"\\n Dataset is --> \\n\", dataset)\n",
        "X=dataset.iloc[:,:-1]\n",
        "y=dataset.iloc[:,5]\n",
        " \n",
        "from sklearn.preprocessing import LabelEncoder\n",
        "le=LabelEncoder()\n",
        "\n",
        "X=X.apply(le.fit_transform)\n",
        "print(\"\\n X --> \\n \",X)\n",
        "features=['AGE','INCOME','GENDER','MARTIAL STATUS']\n",
        "labels=['YES','NO']\n",
        "\n",
        "from sklearn.tree import DecisionTreeClassifier\n",
        "regressor=DecisionTreeClassifier()\n",
        "regressor.fit(X.iloc[:,1:5],y)\n",
        "\n",
        "X_in=np.array([1,1,0,0])\n",
        "y_pred=regressor.predict([ X_in ])\n",
        "print(\"\\n Prediction = \", y_pred)\n",
        "\n",
        "from six import StringIO\n",
        "from IPython.display import Image\n",
        "from sklearn.tree import export_graphviz \n",
        "import pydotplus\n",
        "\n",
        "dot_data=StringIO()\n",
        "\n",
        "export_graphviz(regressor,out_file=dot_data,filled=True,rounded=True,special_characters=True,impurity=None,feature_names=features, class_names=labels)\n",
        "graph=pydotplus.graph_from_dot_data(dot_data.getvalue())\n",
        "graph.write_png('treeOP.png')"
      ],
      "metadata": {
        "colab": {
          "base_uri": "https://localhost:8080/"
        },
        "id": "xjg4gwRLpHwp",
        "outputId": "4d54b6d7-264f-4d8a-f136-129e951e7e17"
      },
      "execution_count": null,
      "outputs": [
        {
          "output_type": "stream",
          "name": "stdout",
          "text": [
            "\n",
            " Dataset is --> \n",
            "     ID    AGE  INCOME  GENDER MARTIAL STATUS BUYS\n",
            "0    1    <21    HIGH    MALE         SINGLE   NO\n",
            "1    2    <21    HIGH    MALE        MARRIED   NO\n",
            "2    3  21-35    HIGH    MALE         SINGLE  YES\n",
            "3    4    >35  MEDIUM    MALE         SINGLE  YES\n",
            "4    5    >35     LOW  FEMALE         SINGLE  YES\n",
            "5    6    >35     LOW  FEMALE        MARRIED   NO\n",
            "6    7  21-35     LOW  FEMALE        MARRIED  YES\n",
            "7    8    <21  MEDIUM    MALE         SINGLE   NO\n",
            "8    9    <21     LOW  FEMALE        MARRIED  YES\n",
            "9   10    >35  MEDIUM  FEMALE         SINGLE  YES\n",
            "10  11    <21  MEDIUM  FEMALE        MARRIED  YES\n",
            "11  12  21-35  MEDIUM    MALE        MARRIED  YES\n",
            "12  13  21-35    HIGH  FEMALE         SINGLE  YES\n",
            "13  14    >35  MEDIUM    MALE        MARRIED   NO\n",
            "\n",
            " X --> \n",
            "      ID  AGE  INCOME  GENDER  MARTIAL STATUS\n",
            "0    0    1       0       1               1\n",
            "1    1    1       0       1               0\n",
            "2    2    0       0       1               1\n",
            "3    3    2       2       1               1\n",
            "4    4    2       1       0               1\n",
            "5    5    2       1       0               0\n",
            "6    6    0       1       0               0\n",
            "7    7    1       2       1               1\n",
            "8    8    1       1       0               0\n",
            "9    9    2       2       0               1\n",
            "10  10    1       2       0               0\n",
            "11  11    0       2       1               0\n",
            "12  12    0       0       0               1\n",
            "13  13    2       2       1               0\n",
            "\n",
            " Prediction =  ['YES']\n"
          ]
        },
        {
          "output_type": "stream",
          "name": "stderr",
          "text": [
            "/usr/local/lib/python3.7/dist-packages/sklearn/base.py:451: UserWarning: X does not have valid feature names, but DecisionTreeClassifier was fitted with feature names\n",
            "  \"X does not have valid feature names, but\"\n"
          ]
        },
        {
          "output_type": "execute_result",
          "data": {
            "text/plain": [
              "True"
            ]
          },
          "metadata": {},
          "execution_count": 5
        }
      ]
    },
    {
      "cell_type": "markdown",
      "source": [
        "ass3"
      ],
      "metadata": {
        "id": "fMUqLZVDpVBH"
      }
    },
    {
      "cell_type": "code",
      "source": [
        "import pandas as pd\n",
        "import numpy as np\n",
        "\n",
        "dataset=pd.read_csv(\"/content/data.csv\")\n",
        "\n",
        "X=dataset.iloc[:,:-1].values\n",
        "print(\"X:\")\n",
        "print(X)\n",
        "\n",
        "y=dataset.iloc[:,2].values\n",
        "print(\"y:\")\n",
        "print(y)\n",
        "\n",
        "from sklearn.neighbors import KNeighborsClassifier\n",
        "\n",
        "\n",
        "classifier=KNeighborsClassifier(n_neighbors=3)\n",
        "classifier.fit(X,y)\n",
        "X_test=np.array([6,6])\n",
        "y_pred=classifier.predict([X_test])\n",
        "print(\"General KNN:\")\n",
        "print(y_pred)\n",
        "\n",
        "classifier=KNeighborsClassifier(n_neighbors=3,weights='distance')\n",
        "classifier.fit(X,y)\n",
        "X_test=np.array([6,6])\n",
        "y_pred1=classifier.predict([X_test])\n",
        "print(\"Distance weighted KNN:\")\n",
        "print(y_pred1)"
      ],
      "metadata": {
        "colab": {
          "base_uri": "https://localhost:8080/"
        },
        "id": "njFzFLa4pWDP",
        "outputId": "62e62f79-e97e-45d6-ddaa-a53f0515be9e"
      },
      "execution_count": null,
      "outputs": [
        {
          "output_type": "stream",
          "name": "stdout",
          "text": [
            "X:\n",
            "[[2 4]\n",
            " [4 2]\n",
            " [4 4]\n",
            " [4 6]\n",
            " [6 2]\n",
            " [6 4]]\n",
            "y:\n",
            "['negative' 'negative' 'positive' 'negative' 'positive' 'negative']\n",
            "General KNN:\n",
            "['negative']\n",
            "Distance weighted KNN:\n",
            "['negative']\n"
          ]
        }
      ]
    },
    {
      "cell_type": "markdown",
      "source": [
        "ass4"
      ],
      "metadata": {
        "id": "G_T9vkuEpvVW"
      }
    },
    {
      "cell_type": "code",
      "source": [
        "import numpy as np\n",
        "import matplotlib.pyplot as plt\n",
        "import pandas as pd\n",
        "\n",
        "df=pd.DataFrame({'X':[0.1,0.15,0.08,0.16,0.2,0.25,0.24,0.3],\n",
        "                 'y':[0.6,0.71,0.9,0.85,0.3,0.5,0.1,0.2]})\n",
        "f1 = df['X'].values\n",
        "f2 = df['y'].values\n",
        "X = np.array(list(zip(f1, f2)))\n",
        "print(X)\n",
        "C_x=np.array([0.1,0.6])\n",
        "C_y=np.array([0.3,0.2])\n",
        "centroids=C_x,C_y\n",
        "colmap = {1: 'r', 2: 'b'}\n",
        "plt.scatter(f1, f2, color='k')\n",
        "plt.show()\n",
        "plt.scatter(C_x[0],C_y[0], color=colmap[1])\n",
        "plt.scatter(C_x[1],C_y[1], color=colmap[2])\n",
        "plt.show()\n",
        "C = np.array(list((C_x, C_y)), dtype=np.float32)\n",
        "print (C)\n",
        "plt.scatter(f1, f2, c='#050505')\n",
        "plt.scatter(C_x[0], C_y[0], marker='*', s=200, c='r')\n",
        "plt.scatter(C_x[1], C_y[1], marker='*', s=200, c='b')\n",
        "plt.show()\n",
        "from sklearn.cluster import KMeans\n",
        "model=KMeans(n_clusters=2,random_state=0)\n",
        "model.fit(X)\n",
        "labels=model.labels_\n",
        "print(labels)\n",
        "count=0\n",
        "for i in range(len(labels)):\n",
        "   if (labels[i]==1):\n",
        "       count=count+1\n",
        "print('No of population around cluster 2:',count-1)\n",
        "new_centroids = model.cluster_centers_\n",
        "\n",
        "print('Previous value of m1 and m2 is:')\n",
        "print('M1==',centroids[0])\n",
        "print('M1==',centroids[1])\n",
        "\n",
        "print('updated value of m1 and m2 is:')\n",
        "print('M1==',new_centroids[0])\n",
        "print('M1==',new_centroids[1])"
      ],
      "metadata": {
        "colab": {
          "base_uri": "https://localhost:8080/",
          "height": 1000
        },
        "id": "BYr1oVCypwoc",
        "outputId": "c7fc9752-2b6f-418b-d176-741ac7fc1924"
      },
      "execution_count": null,
      "outputs": [
        {
          "output_type": "stream",
          "name": "stdout",
          "text": [
            "[[0.1  0.6 ]\n",
            " [0.15 0.71]\n",
            " [0.08 0.9 ]\n",
            " [0.16 0.85]\n",
            " [0.2  0.3 ]\n",
            " [0.25 0.5 ]\n",
            " [0.24 0.1 ]\n",
            " [0.3  0.2 ]]\n"
          ]
        },
        {
          "output_type": "display_data",
          "data": {
            "text/plain": [
              "<Figure size 432x288 with 1 Axes>"
            ],
            "image/png": "[encoded data removed]"
          },
          "metadata": {
            "needs_background": "light"
          }
        },
        {
          "output_type": "display_data",
          "data": {
            "text/plain": [
              "<Figure size 432x288 with 1 Axes>"
            ],
            "image/png": "[encoded data removed]"
          },
          "metadata": {
            "needs_background": "light"
          }
        },
        {
          "output_type": "stream",
          "name": "stdout",
          "text": [
            "[[0.1 0.6]\n",
            " [0.3 0.2]]\n"
          ]
        },
        {
          "output_type": "display_data",
          "data": {
            "text/plain": [
              "<Figure size 432x288 with 1 Axes>"
            ],
            "image/png": "[encoded data removed]"
          },
          "metadata": {
            "needs_background": "light"
          }
        },
        {
          "output_type": "stream",
          "name": "stdout",
          "text": [
            "[1 1 1 1 0 0 0 0]\n",
            "No of population around cluster 2: 3\n",
            "Previous value of m1 and m2 is:\n",
            "M1== [0.1 0.6]\n",
            "M1== [0.3 0.2]\n",
            "updated value of m1 and m2 is:\n",
            "M1== [0.2475 0.275 ]\n",
            "M1== [0.1225 0.765 ]\n"
          ]
        }
      ]
    }
  ]
}